{
 "cells": [
  {
   "cell_type": "code",
   "execution_count": 1,
   "id": "44883839-5072-42c0-8055-aad803c7214f",
   "metadata": {},
   "outputs": [
    {
     "name": "stderr",
     "output_type": "stream",
     "text": [
      "OMP: Info #271: omp_set_nested routine deprecated, please use omp_set_max_active_levels instead.\n"
     ]
    }
   ],
   "source": [
    "import glob\n",
    "import logging\n",
    "import os\n",
    "\n",
    "import catchment_delineation as cd\n",
    "import numpy as np\n",
    "from joblib import Parallel, delayed\n",
    "from tqdm.notebook import tqdm"
   ]
  },
  {
   "cell_type": "markdown",
   "id": "1f63b598-e03c-42b2-b89e-6133b4768abe",
   "metadata": {},
   "source": [
    "# Terrain conditioning\n",
    "\n",
    "For each vassdragsområde and DTM resolution, this notebook performs the following processing:\n",
    "\n",
    " * \"Burn\" [ELVIS streams](https://kartkatalog.geonorge.no/metadata/elvis-elvenett/3f95a194-0968-4457-a500-912958de3d39) (optional)\n",
    " * Fill pits\n",
    " * Fill depressions\n",
    " * Resolve flats\n",
    " * Calculate flow direction\n",
    " * Calculate flow accumulation\n",
    " \n",
    "The processing is done using [PySheds](https://github.com/mdbartos/pysheds)."
   ]
  },
  {
   "cell_type": "markdown",
   "id": "55d91a81-3574-4db0-98e0-627ceab337a4",
   "metadata": {},
   "source": [
    "## 1. User input\n",
    "\n",
    "**Note:** The defaults in `pysheds.resolve_flats()` for `max_iter` and `eps` are 1000 and 1e-5, respectively. This caused strange results, where applying `resolve_flats` would fail to resolve all flats, and would also introduce additional pits, leading to very poor catchment delineation. The defaults seem to be appropriate only for fairly small areas (i.e. not that many grid cells). Setting `max_iter` to be very large and `eps` to be very small seems to resolve the problem, without too much additional overhead. See [here](https://github.com/mdbartos/pysheds/issues/188) for details.\n",
    "\n",
    "**Note 2:** Some PySheds functions give strange output with irregularly DEMs containing NoData (e.g. non-rectangular datasets with NoData cells around the margins). Best results seem to be achieved by filling all NoData cells with valid low values. In particular, if no stream burning is being performed, set all NoData values and values less than zero to zero. Alternatively, if stream burning is included, set all NoData values and values less than zero to `-dz` (i.e. the stream burn depth). This essentially creates DEMs with large, low flat areas around the margins, which forces all cells to drain to them eventually."
   ]
  },
  {
   "cell_type": "code",
   "execution_count": 2,
   "id": "c4308fb8-4647-4a67-8f29-49e8af0f92f9",
   "metadata": {},
   "outputs": [],
   "source": [
    "res_list = [40]\n",
    "no_data_val = -32767\n",
    "dem_dtype = np.float32\n",
    "sigma = 3\n",
    "dz = 20\n",
    "max_iter = 1e9\n",
    "eps = 1e-12\n",
    "log_file = \"terrain_conditioning_pysheds_40m.log\"\n",
    "\n",
    "n_jobs = 8"
   ]
  },
  {
   "cell_type": "code",
   "execution_count": 3,
   "id": "b5e40c4d-dc35-4a16-8d26-38f88c11fba0",
   "metadata": {},
   "outputs": [
    {
     "name": "stdout",
     "output_type": "stream",
     "text": [
      "Logging progress to 'terrain_conditioning_pysheds_40m.log'.\n"
     ]
    }
   ],
   "source": [
    "# Setup logging\n",
    "logging.basicConfig(\n",
    "    filename=log_file,\n",
    "    format=\"%(asctime)s %(message)s\",\n",
    "    datefmt=\"%Y-%m-%d %H:%M\",\n",
    "    encoding=\"utf-8\",\n",
    "    filemode=\"w\",\n",
    "    level=logging.INFO,\n",
    ")\n",
    "print(f\"Logging progress to '{log_file}'.\")\n",
    "logging.info(\"Started\")"
   ]
  },
  {
   "cell_type": "markdown",
   "id": "38f2eaa9-4c06-4702-a921-e780f9017315",
   "metadata": {},
   "source": [
    "## 2. Get ELVIS stream network"
   ]
  },
  {
   "cell_type": "code",
   "execution_count": 4,
   "id": "859997ba-0fb4-46b2-b41e-3126cc6608c2",
   "metadata": {},
   "outputs": [],
   "source": [
    "# %%time\n",
    "\n",
    "# logging.info(\"Getting streams\")\n",
    "# # Convert generator to list so it can be reused in loop below\n",
    "# shapes = list(cd.get_elvis_streams_as_shapes(crs=\"epsg:25833\"))"
   ]
  },
  {
   "cell_type": "code",
   "execution_count": 5,
   "id": "b51bda2d-ee54-4191-95cc-b366e0d8b8ec",
   "metadata": {},
   "outputs": [],
   "source": [
    "# import pickle\n",
    "\n",
    "# with open(r\"/home/jovyan/shared/01_datasets/spatial/streams.pkl\", \"wb\") as f:\n",
    "#     pickle.dump(shapes, f)"
   ]
  },
  {
   "cell_type": "code",
   "execution_count": 6,
   "id": "37d1211b-0857-4df7-ad5a-50821cb77215",
   "metadata": {},
   "outputs": [
    {
     "name": "stdout",
     "output_type": "stream",
     "text": [
      "CPU times: user 14.4 s, sys: 1.14 s, total: 15.5 s\n",
      "Wall time: 15.5 s\n"
     ]
    }
   ],
   "source": [
    "%%time\n",
    "\n",
    "import pickle\n",
    "\n",
    "with open(r\"/home/jovyan/shared/01_datasets/spatial/streams.pkl\", \"rb\") as f:\n",
    "    shapes = pickle.load(f)"
   ]
  },
  {
   "cell_type": "markdown",
   "id": "bb455f8a-7e38-4325-a172-f685de0054a6",
   "metadata": {},
   "source": [
    "## 3. Process vassdragsområder"
   ]
  },
  {
   "cell_type": "markdown",
   "id": "b7f937f4-dda5-43b2-8248-6e4f41d08568",
   "metadata": {},
   "source": [
    "### 3.1. Option 1: Process in series"
   ]
  },
  {
   "cell_type": "code",
   "execution_count": null,
   "id": "8847dde5-85ad-4dd1-811a-aee30d4261ab",
   "metadata": {},
   "outputs": [
    {
     "data": {
      "application/vnd.jupyter.widget-view+json": {
       "model_id": "154ee09e80514bbe85811a702007b452",
       "version_major": 2,
       "version_minor": 0
      },
      "text/plain": [
       "Looping over DTM resolutions:   0%|          | 0/1 [00:00<?, ?it/s]"
      ]
     },
     "metadata": {},
     "output_type": "display_data"
    },
    {
     "data": {
      "application/vnd.jupyter.widget-view+json": {
       "model_id": "28b36c1d2fe1427eaaeb16a86f4975ae",
       "version_major": 2,
       "version_minor": 0
      },
      "text/plain": [
       "Looping over vassdragsområder:   0%|          | 0/262 [00:00<?, ?it/s]"
      ]
     },
     "metadata": {},
     "output_type": "display_data"
    },
    {
     "name": "stdout",
     "output_type": "stream",
     "text": [
      "        vassom_003_40m_burn_fill.tif has 1 pits and 0 flats.\n",
      "        vassom_014_40m_burn_fill.tif has 4 pits and 0 flats.\n",
      "        vassom_015_40m_burn_fill.tif has 1 pits and 0 flats.\n",
      "        vassom_017_40m_burn_fill.tif has 3 pits and 0 flats.\n",
      "        vassom_018_40m_burn_fill.tif has 2 pits and 0 flats.\n",
      "        vassom_019_40m_burn_fill.tif has 1 pits and 0 flats.\n",
      "        vassom_022_40m_burn_fill.tif has 1 pits and 0 flats.\n"
     ]
    }
   ],
   "source": [
    "# from importlib import reload\n",
    "# cd = reload(cd)\n",
    "\n",
    "for res in tqdm(res_list, desc=\"Looping over DTM resolutions\"):\n",
    "    logging.info(f\"Processing {res} m DTM\")\n",
    "    search_path = f\"/home/jovyan/shared/01_datasets/spatial/dtm_merged_utm33/dtm_{res}m/by_vassom/dtm/*.tif\"\n",
    "    flist = sorted(glob.glob(search_path))\n",
    "\n",
    "    for fpath in tqdm(flist, desc=\"Looping over vassdragsområder\"):\n",
    "        fname = os.path.split(fpath)[1]\n",
    "        vassom = fname.split(\"_\")[1]\n",
    "        logging.info(f\"    Vassdragsområder {vassom}\")\n",
    "\n",
    "        fill_path = (\n",
    "            f\"/home/jovyan/shared/01_datasets/spatial/dtm_merged_utm33/dtm_{res}m\"\n",
    "            f\"/by_vassom/dtm_fill_burn/vassom_{vassom}_{res}m_burn_fill.tif\"\n",
    "        )\n",
    "        fdir_path = (\n",
    "            f\"/home/jovyan/shared/01_datasets/spatial/dtm_merged_utm33/dtm_{res}m\"\n",
    "            f\"/by_vassom/flow_direction/vassom_{vassom}_{res}m_fdir.tif\"\n",
    "        )\n",
    "        facc_path = (\n",
    "            f\"/home/jovyan/shared/01_datasets/spatial/dtm_merged_utm33/dtm_{res}m\"\n",
    "            f\"/by_vassom/flow_accumulation/vassom_{vassom}_{res}m_facc.tif\"\n",
    "        )\n",
    "\n",
    "        cd.condition_dem(\n",
    "            fpath,\n",
    "            fill_path,\n",
    "            fdir_path,\n",
    "            facc_path,\n",
    "            dem_dtype=dem_dtype,\n",
    "            dem_ndv=no_data_val,\n",
    "            burn_streams=True,\n",
    "            shapes=shapes,\n",
    "            sigma=sigma,\n",
    "            dz=dz,\n",
    "            max_iter=max_iter,\n",
    "            eps=eps,\n",
    "        )\n",
    "logging.info(\"Done.\")"
   ]
  },
  {
   "cell_type": "markdown",
   "id": "7e61598e-6191-4148-9c5b-3449e70ac6fe",
   "metadata": {},
   "source": [
    "### 3.2. Option 2: Process in parallel\n",
    "\n",
    "(But note that logging doesn't work properly)."
   ]
  },
  {
   "cell_type": "code",
   "execution_count": null,
   "id": "7c3b59d6-4e46-46c6-a548-f1bc225e7a2b",
   "metadata": {},
   "outputs": [],
   "source": [
    "# %%time\n",
    "\n",
    "\n",
    "# for res in tqdm(res_list, desc=\"Looping over DTM resolutions\"):\n",
    "#     logging.info(f\"Processing {res} m DTM\")\n",
    "#     search_path = f\"/home/jovyan/shared/01_datasets/spatial/dtm_merged_utm33/dtm_{res}m/by_vassom/dtm/*.tif\"\n",
    "#     flist = sorted(glob.glob(search_path))\n",
    "#     vassom_list = [os.path.split(fname)[1].split(\"_\")[1] for fname in flist]\n",
    "\n",
    "#     fill_fold = (\n",
    "#         f\"/home/jovyan/shared/01_datasets/spatial/dtm_merged_utm33/dtm_{res}m\"\n",
    "#         f\"/by_vassom/dtm_fill_burn\"\n",
    "#     )\n",
    "#     fill_paths = [\n",
    "#         os.path.join(fill_fold, f\"vassom_{vassom}_{res}m_burn_fill.tif\")\n",
    "#         for vassom in vassom_list\n",
    "#     ]\n",
    "\n",
    "#     fdir_fold = (\n",
    "#         f\"/home/jovyan/shared/01_datasets/spatial/dtm_merged_utm33/dtm_{res}m\"\n",
    "#         f\"/by_vassom/flow_direction\"\n",
    "#     )\n",
    "#     fdir_paths = [\n",
    "#         os.path.join(fdir_fold, f\"vassom_{vassom}_{res}m_fdir.tif\")\n",
    "#         for vassom in vassom_list\n",
    "#     ]\n",
    "\n",
    "#     facc_fold = (\n",
    "#         f\"/home/jovyan/shared/01_datasets/spatial/dtm_merged_utm33/dtm_{res}m\"\n",
    "#         f\"/by_vassom/flow_accumulation\"\n",
    "#     )\n",
    "#     facc_paths = [\n",
    "#         os.path.join(facc_fold, f\"vassom_{vassom}_{res}m_facc.tif\")\n",
    "#         for vassom in vassom_list\n",
    "#     ]\n",
    "\n",
    "#     Parallel(n_jobs=n_jobs)(\n",
    "#         delayed(cd.condition_dem)(\n",
    "#             src_path,\n",
    "#             fill_paths[idx],\n",
    "#             fdir_paths[idx],\n",
    "#             facc_paths[idx],\n",
    "#             dem_dtype=dem_dtype,\n",
    "#             dem_ndv=no_data_val,\n",
    "#             burn_streams=True,\n",
    "#             shapes=shapes,\n",
    "#             sigma=sigma,\n",
    "#             dz=dz,\n",
    "#             max_iter=max_iter,\n",
    "#             eps=eps,\n",
    "#         )\n",
    "#         for idx, src_path in enumerate(flist)\n",
    "#     )"
   ]
  }
 ],
 "metadata": {
  "kernelspec": {
   "display_name": "Python 3 (ipykernel)",
   "language": "python",
   "name": "python3"
  },
  "language_info": {
   "codemirror_mode": {
    "name": "ipython",
    "version": 3
   },
   "file_extension": ".py",
   "mimetype": "text/x-python",
   "name": "python",
   "nbconvert_exporter": "python",
   "pygments_lexer": "ipython3",
   "version": "3.9.7"
  }
 },
 "nbformat": 4,
 "nbformat_minor": 5
}
