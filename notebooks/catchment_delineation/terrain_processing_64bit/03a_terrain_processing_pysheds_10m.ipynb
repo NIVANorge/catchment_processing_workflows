{
 "cells": [
  {
   "cell_type": "code",
   "execution_count": 1,
   "id": "44883839-5072-42c0-8055-aad803c7214f",
   "metadata": {},
   "outputs": [],
   "source": [
    "import glob\n",
    "import logging\n",
    "import os\n",
    "\n",
    "import catchment_delineation as cd\n",
    "import numpy as np\n",
    "from joblib import Parallel, delayed\n",
    "from tqdm.notebook import tqdm"
   ]
  },
  {
   "cell_type": "markdown",
   "id": "1f63b598-e03c-42b2-b89e-6133b4768abe",
   "metadata": {},
   "source": [
    "# Terrain conditioning\n",
    "\n",
    "For each vassdragsområde and DTM resolution, this notebook performs the following processing:\n",
    "\n",
    " * \"Burn\" [NVE lakes](https://kartkatalog.geonorge.no/metadata/innsjoedatabase/823b8639-9a49-41bf-8571-3608435eb149) and [ELVIS streams](https://kartkatalog.geonorge.no/metadata/elvis-elvenett/3f95a194-0968-4457-a500-912958de3d39) (optional)\n",
    " * Fill pits\n",
    " * Fill depressions\n",
    " * Resolve flats\n",
    " * Calculate flow direction\n",
    " * Calculate flow accumulation\n",
    " \n",
    "The processing is done using [PySheds](https://github.com/mdbartos/pysheds)."
   ]
  },
  {
   "cell_type": "markdown",
   "id": "55d91a81-3574-4db0-98e0-627ceab337a4",
   "metadata": {},
   "source": [
    "## 1. User input\n",
    "\n",
    "**Note:** The defaults in `pysheds.resolve_flats()` for `max_iter` and `eps` are 1000 and 1e-5, respectively. This caused strange results, where applying `resolve_flats` would fail to resolve all flats, and would also introduce additional pits, leading to very poor catchment delineation. The defaults seem to be appropriate only for fairly small areas (i.e. not that many grid cells). Setting `max_iter` to be very large and `eps` to be very small seems to resolve the problem, without too much additional overhead. See [here](https://github.com/mdbartos/pysheds/issues/188) for details.\n",
    "\n",
    "**Note 2:** Some PySheds functions give strange output with irregularly DEMs containing NoData (e.g. non-rectangular datasets with NoData cells around the margins). Best results seem to be achieved by filling all NoData cells with valid low values. In particular, if no stream burning is being performed, set all NoData values and values less than zero to zero. Alternatively, if stream burning is included, set all NoData values and values less than zero to `-dz` (i.e. the stream burn depth). This essentially creates DEMs with large, low flat areas around the margins, which forces all cells to drain to them eventually."
   ]
  },
  {
   "cell_type": "code",
   "execution_count": 2,
   "id": "c4308fb8-4647-4a67-8f29-49e8af0f92f9",
   "metadata": {},
   "outputs": [],
   "source": [
    "res_list = [10]\n",
    "no_data_val = -32767\n",
    "dem_dtype = np.float32\n",
    "burn = True\n",
    "stream_sigma = None\n",
    "stream_dz = 20\n",
    "lake_dz = 20\n",
    "max_iter = 1e9\n",
    "eps = 1e-12\n",
    "log_file = \"terrain_conditioning_pysheds_10m.log\"\n",
    "\n",
    "n_jobs = 8"
   ]
  },
  {
   "cell_type": "code",
   "execution_count": 3,
   "id": "b5e40c4d-dc35-4a16-8d26-38f88c11fba0",
   "metadata": {},
   "outputs": [
    {
     "name": "stdout",
     "output_type": "stream",
     "text": [
      "Logging progress to 'terrain_conditioning_pysheds_10m.log'.\n"
     ]
    }
   ],
   "source": [
    "# Setup logging\n",
    "logging.basicConfig(\n",
    "    filename=log_file,\n",
    "    format=\"%(asctime)s %(message)s\",\n",
    "    datefmt=\"%Y-%m-%d %H:%M\",\n",
    "    encoding=\"utf-8\",\n",
    "    filemode=\"w\",\n",
    "    level=logging.INFO,\n",
    ")\n",
    "print(f\"Logging progress to '{log_file}'.\")\n",
    "logging.info(\"Started\")"
   ]
  },
  {
   "cell_type": "markdown",
   "id": "bd092455-e4c2-45ea-9efe-7e2becc60d29",
   "metadata": {},
   "source": [
    "## 2. Get vector data"
   ]
  },
  {
   "cell_type": "markdown",
   "id": "38f2eaa9-4c06-4702-a921-e780f9017315",
   "metadata": {},
   "source": [
    "### 2.1. ELVIS stream network"
   ]
  },
  {
   "cell_type": "code",
   "execution_count": 4,
   "id": "859997ba-0fb4-46b2-b41e-3126cc6608c2",
   "metadata": {},
   "outputs": [],
   "source": [
    "# %%time\n",
    "\n",
    "# logging.info(\"Getting streams\")\n",
    "# # Convert generator to list so it can be reused in loop below\n",
    "# stream_shapes = list(cd.get_elvis_streams_as_shapes(crs=\"epsg:25833\"))"
   ]
  },
  {
   "cell_type": "code",
   "execution_count": 5,
   "id": "b51bda2d-ee54-4191-95cc-b366e0d8b8ec",
   "metadata": {},
   "outputs": [],
   "source": [
    "# import pickle\n",
    "\n",
    "# with open(r\"/home/jovyan/shared/01_datasets/spatial/streams.pkl\", \"wb\") as f:\n",
    "#     pickle.dump(stream_shapes, f)"
   ]
  },
  {
   "cell_type": "markdown",
   "id": "5b0004e5-3385-45e4-a358-a090b468d261",
   "metadata": {},
   "source": [
    "### 2.2. Lake polygons"
   ]
  },
  {
   "cell_type": "code",
   "execution_count": 6,
   "id": "629f39f7-de94-4981-be3d-9ff38e75604f",
   "metadata": {},
   "outputs": [],
   "source": [
    "# %%time\n",
    "\n",
    "# logging.info(\"Getting lakes\")\n",
    "# # Convert generator to list so it can be reused in loop below\n",
    "# lake_shapes = list(cd.get_nve_lakes_as_shapes(crs=\"epsg:25833\"))"
   ]
  },
  {
   "cell_type": "code",
   "execution_count": 7,
   "id": "45afd12d-3a9b-49c2-809a-39120526a5da",
   "metadata": {},
   "outputs": [],
   "source": [
    "# import pickle\n",
    "\n",
    "# with open(r\"/home/jovyan/shared/01_datasets/spatial/lakes.pkl\", \"wb\") as f:\n",
    "#     pickle.dump(lake_shapes, f)"
   ]
  },
  {
   "cell_type": "markdown",
   "id": "281a78e0-9d28-4dfa-9d60-be86ffae172c",
   "metadata": {},
   "source": [
    "### 2.3. Load saved data"
   ]
  },
  {
   "cell_type": "code",
   "execution_count": 8,
   "id": "37d1211b-0857-4df7-ad5a-50821cb77215",
   "metadata": {},
   "outputs": [
    {
     "name": "stdout",
     "output_type": "stream",
     "text": [
      "CPU times: user 19.8 s, sys: 1.64 s, total: 21.5 s\n",
      "Wall time: 21.5 s\n"
     ]
    }
   ],
   "source": [
    "%%time\n",
    "\n",
    "import pickle\n",
    "\n",
    "with open(r\"/home/jovyan/shared/01_datasets/spatial/streams.pkl\", \"rb\") as f:\n",
    "    stream_shapes = pickle.load(f)\n",
    "\n",
    "with open(r\"/home/jovyan/shared/01_datasets/spatial/lakes.pkl\", \"rb\") as f:\n",
    "    lake_shapes = pickle.load(f)"
   ]
  },
  {
   "cell_type": "markdown",
   "id": "bb455f8a-7e38-4325-a172-f685de0054a6",
   "metadata": {},
   "source": [
    "## 3. Process vassdragsområder"
   ]
  },
  {
   "cell_type": "markdown",
   "id": "b7f937f4-dda5-43b2-8248-6e4f41d08568",
   "metadata": {},
   "source": [
    "### 3.1. Option 1: Process in series"
   ]
  },
  {
   "cell_type": "code",
   "execution_count": 9,
   "id": "8847dde5-85ad-4dd1-811a-aee30d4261ab",
   "metadata": {},
   "outputs": [
    {
     "data": {
      "application/vnd.jupyter.widget-view+json": {
       "model_id": "55654bd9627b4f5892653d570d323e2c",
       "version_major": 2,
       "version_minor": 0
      },
      "text/plain": [
       "Looping over DTM resolutions:   0%|          | 0/1 [00:00<?, ?it/s]"
      ]
     },
     "metadata": {},
     "output_type": "display_data"
    },
    {
     "data": {
      "application/vnd.jupyter.widget-view+json": {
       "model_id": "f185262c15324edebfced1f3eb3d813d",
       "version_major": 2,
       "version_minor": 0
      },
      "text/plain": [
       "Looping over vassdragsområder:   0%|          | 0/262 [00:00<?, ?it/s]"
      ]
     },
     "metadata": {},
     "output_type": "display_data"
    },
    {
     "name": "stdout",
     "output_type": "stream",
     "text": [
      "        vassom_002_10m_burn_fill.tif has 105 pits and 161 flats.\n",
      "        vassom_005_10m_burn_fill.tif has 3 pits and 0 flats.\n",
      "        vassom_008_10m_burn_fill.tif has 3 pits and 0 flats.\n",
      "        vassom_009_10m_burn_fill.tif has 3 pits and 0 flats.\n",
      "        vassom_014_10m_burn_fill.tif has 6 pits and 0 flats.\n",
      "        vassom_015_10m_burn_fill.tif has 1 pits and 0 flats.\n",
      "        vassom_022_10m_burn_fill.tif has 2 pits and 0 flats.\n",
      "        vassom_024_10m_burn_fill.tif has 1 pits and 0 flats.\n",
      "        vassom_028_10m_burn_fill.tif has 1 pits and 0 flats.\n",
      "        vassom_029_10m_burn_fill.tif has 1 pits and 0 flats.\n",
      "        vassom_030_10m_burn_fill.tif has 4 pits and 0 flats.\n",
      "        vassom_034_10m_burn_fill.tif has 1 pits and 0 flats.\n",
      "        vassom_035_10m_burn_fill.tif has 1 pits and 0 flats.\n",
      "        vassom_039_10m_burn_fill.tif has 1 pits and 0 flats.\n",
      "        vassom_042_10m_burn_fill.tif has 1 pits and 0 flats.\n",
      "        vassom_043_10m_burn_fill.tif has 1 pits and 0 flats.\n",
      "        vassom_045_10m_burn_fill.tif has 1 pits and 0 flats.\n",
      "        vassom_047_10m_burn_fill.tif has 1 pits and 0 flats.\n",
      "        vassom_048_10m_burn_fill.tif has 1 pits and 0 flats.\n",
      "        vassom_051_10m_burn_fill.tif has 1 pits and 0 flats.\n",
      "        vassom_052_10m_burn_fill.tif has 1 pits and 0 flats.\n",
      "        vassom_055_10m_burn_fill.tif has 2 pits and 0 flats.\n",
      "        vassom_056_10m_burn_fill.tif has 2 pits and 0 flats.\n",
      "        vassom_059_10m_burn_fill.tif has 1 pits and 0 flats.\n",
      "        vassom_068_10m_burn_fill.tif has 1 pits and 0 flats.\n",
      "        vassom_069_10m_burn_fill.tif has 1 pits and 0 flats.\n",
      "        vassom_072_10m_burn_fill.tif has 18 pits and 0 flats.\n",
      "        vassom_073_10m_burn_fill.tif has 2 pits and 0 flats.\n",
      "        vassom_077_10m_burn_fill.tif has 15 pits and 0 flats.\n",
      "        vassom_080_10m_burn_fill.tif has 14 pits and 0 flats.\n",
      "        vassom_081_10m_burn_fill.tif has 14 pits and 0 flats.\n",
      "        vassom_082_10m_burn_fill.tif has 12 pits and 0 flats.\n",
      "        vassom_084_10m_burn_fill.tif has 2 pits and 0 flats.\n",
      "        vassom_085_10m_burn_fill.tif has 1 pits and 0 flats.\n",
      "        vassom_086_10m_burn_fill.tif has 1 pits and 0 flats.\n",
      "        vassom_087_10m_burn_fill.tif has 2 pits and 0 flats.\n",
      "        vassom_089_10m_burn_fill.tif has 2 pits and 0 flats.\n",
      "        vassom_090_10m_burn_fill.tif has 1 pits and 0 flats.\n",
      "        vassom_097_10m_burn_fill.tif has 1 pits and 0 flats.\n",
      "        vassom_099_10m_burn_fill.tif has 25 pits and 0 flats.\n",
      "        vassom_100_10m_burn_fill.tif has 25 pits and 0 flats.\n",
      "        vassom_104_10m_burn_fill.tif has 1 pits and 0 flats.\n",
      "        vassom_105_10m_burn_fill.tif has 1 pits and 0 flats.\n",
      "        vassom_109_10m_burn_fill.tif has 5 pits and 0 flats.\n",
      "        vassom_111_10m_burn_fill.tif has 22 pits and 0 flats.\n",
      "        vassom_112_10m_burn_fill.tif has 16 pits and 0 flats.\n",
      "        vassom_113_10m_burn_fill.tif has 11 pits and 0 flats.\n",
      "        vassom_117_10m_burn_fill.tif has 1 pits and 0 flats.\n",
      "        vassom_122_10m_burn_fill.tif has 11 pits and 0 flats.\n",
      "        vassom_124_10m_burn_fill.tif has 2 pits and 0 flats.\n",
      "        vassom_125_10m_burn_fill.tif has 3 pits and 0 flats.\n",
      "        vassom_136_10m_burn_fill.tif has 1 pits and 0 flats.\n",
      "        vassom_137_10m_burn_fill.tif has 1 pits and 0 flats.\n",
      "        vassom_138_10m_burn_fill.tif has 7 pits and 0 flats.\n",
      "        vassom_140_10m_burn_fill.tif has 7 pits and 0 flats.\n",
      "        vassom_157_10m_burn_fill.tif has 1 pits and 0 flats.\n",
      "        vassom_158_10m_burn_fill.tif has 1 pits and 0 flats.\n",
      "        vassom_159_10m_burn_fill.tif has 4 pits and 0 flats.\n",
      "        vassom_160_10m_burn_fill.tif has 1 pits and 0 flats.\n",
      "        vassom_162_10m_burn_fill.tif has 4 pits and 0 flats.\n",
      "        vassom_164_10m_burn_fill.tif has 5 pits and 0 flats.\n",
      "        vassom_165_10m_burn_fill.tif has 6 pits and 0 flats.\n",
      "        vassom_171_10m_burn_fill.tif has 34 pits and 0 flats.\n",
      "        vassom_172_10m_burn_fill.tif has 11 pits and 0 flats.\n",
      "        vassom_173_10m_burn_fill.tif has 20 pits and 0 flats.\n",
      "        vassom_174_10m_burn_fill.tif has 20 pits and 0 flats.\n",
      "        vassom_176_10m_burn_fill.tif has 7 pits and 0 flats.\n",
      "        vassom_177_10m_burn_fill.tif has 13 pits and 0 flats.\n",
      "        vassom_178_10m_burn_fill.tif has 3 pits and 0 flats.\n",
      "        vassom_179_10m_burn_fill.tif has 3 pits and 0 flats.\n",
      "        vassom_180_10m_burn_fill.tif has 2 pits and 0 flats.\n",
      "        vassom_182_10m_burn_fill.tif has 2 pits and 0 flats.\n",
      "        vassom_184_10m_burn_fill.tif has 9 pits and 0 flats.\n",
      "        vassom_185_10m_burn_fill.tif has 58 pits and 0 flats.\n",
      "        vassom_186_10m_burn_fill.tif has 50 pits and 0 flats.\n",
      "        vassom_191_10m_burn_fill.tif has 17 pits and 0 flats.\n",
      "        vassom_192_10m_burn_fill.tif has 13 pits and 0 flats.\n",
      "        vassom_193_10m_burn_fill.tif has 17 pits and 0 flats.\n",
      "        vassom_194_10m_burn_fill.tif has 18 pits and 0 flats.\n",
      "        vassom_195_10m_burn_fill.tif has 23 pits and 0 flats.\n",
      "        vassom_197_10m_burn_fill.tif has 3 pits and 0 flats.\n",
      "        vassom_198_10m_burn_fill.tif has 3 pits and 0 flats.\n",
      "        vassom_199_10m_burn_fill.tif has 39 pits and 0 flats.\n",
      "        vassom_200_10m_burn_fill.tif has 16 pits and 0 flats.\n",
      "        vassom_202_10m_burn_fill.tif has 1 pits and 0 flats.\n",
      "        vassom_203_10m_burn_fill.tif has 20 pits and 0 flats.\n",
      "        vassom_206_10m_burn_fill.tif has 1 pits and 0 flats.\n",
      "        vassom_207_10m_burn_fill.tif has 1 pits and 0 flats.\n",
      "        vassom_208_10m_burn_fill.tif has 2 pits and 0 flats.\n",
      "        vassom_209_10m_burn_fill.tif has 19 pits and 0 flats.\n",
      "        vassom_210_10m_burn_fill.tif has 19 pits and 0 flats.\n",
      "        vassom_211_10m_burn_fill.tif has 1 pits and 0 flats.\n",
      "        vassom_230_10m_burn_fill.tif has 5 pits and 0 flats.\n",
      "        vassom_231_10m_burn_fill.tif has 9 pits and 0 flats.\n",
      "        vassom_234_10m_burn_fill.tif has 1 pits and 0 flats.\n",
      "        vassom_245_10m_burn_fill.tif has 1 pits and 0 flats.\n",
      "        vassom_246_10m_burn_fill.tif has 1 pits and 0 flats.\n"
     ]
    }
   ],
   "source": [
    "# from importlib import reload\n",
    "# cd = reload(cd)\n",
    "\n",
    "for res in tqdm(res_list, desc=\"Looping over DTM resolutions\"):\n",
    "    logging.info(f\"Processing {res} m DTM\")\n",
    "    search_path = f\"/home/jovyan/shared/01_datasets/spatial/dtm_merged_utm33/dtm_{res}m/by_vassom/dtm/*.tif\"\n",
    "    flist = sorted(glob.glob(search_path))\n",
    "\n",
    "    for fpath in tqdm(flist, desc=\"Looping over vassdragsområder\"):\n",
    "        fname = os.path.split(fpath)[1]\n",
    "        vassom = fname.split(\"_\")[1]\n",
    "\n",
    "        logging.info(f\"    Vassdragsområder {vassom}\")\n",
    "\n",
    "        fill_path = (\n",
    "            f\"/home/jovyan/shared/01_datasets/spatial/dtm_merged_utm33/dtm_{res}m\"\n",
    "            f\"/by_vassom/dtm_fill_burn/vassom_{vassom}_{res}m_burn_fill.tif\"\n",
    "        )\n",
    "        fdir_path = (\n",
    "            f\"/home/jovyan/shared/01_datasets/spatial/dtm_merged_utm33/dtm_{res}m\"\n",
    "            f\"/by_vassom/flow_direction/vassom_{vassom}_{res}m_fdir.tif\"\n",
    "        )\n",
    "        facc_path = (\n",
    "            f\"/home/jovyan/shared/01_datasets/spatial/dtm_merged_utm33/dtm_{res}m\"\n",
    "            f\"/by_vassom/flow_accumulation/vassom_{vassom}_{res}m_facc.tif\"\n",
    "        )\n",
    "\n",
    "        cd.condition_dem(\n",
    "            fpath,\n",
    "            fill_path,\n",
    "            fdir_path,\n",
    "            facc_path,\n",
    "            dem_dtype=dem_dtype,\n",
    "            dem_ndv=no_data_val,\n",
    "            burn=burn,\n",
    "            stream_shapes=stream_shapes,\n",
    "            lake_shapes=lake_shapes,\n",
    "            stream_sigma=stream_sigma,\n",
    "            stream_dz=stream_dz,\n",
    "            lake_dz=lake_dz,\n",
    "            max_iter=max_iter,\n",
    "            eps=eps,\n",
    "        )\n",
    "logging.info(\"Done.\")"
   ]
  },
  {
   "cell_type": "markdown",
   "id": "7e61598e-6191-4148-9c5b-3449e70ac6fe",
   "metadata": {},
   "source": [
    "### 3.2. Option 2: Process in parallel\n",
    "\n",
    "(But note that logging doesn't work properly)."
   ]
  },
  {
   "cell_type": "code",
   "execution_count": 10,
   "id": "7c3b59d6-4e46-46c6-a548-f1bc225e7a2b",
   "metadata": {},
   "outputs": [],
   "source": [
    "# %%time\n",
    "\n",
    "\n",
    "# for res in tqdm(res_list, desc=\"Looping over DTM resolutions\"):\n",
    "#     logging.info(f\"Processing {res} m DTM\")\n",
    "#     search_path = f\"/home/jovyan/shared/01_datasets/spatial/dtm_merged_utm33/dtm_{res}m/by_vassom/dtm/*.tif\"\n",
    "#     flist = sorted(glob.glob(search_path))\n",
    "#     vassom_list = [os.path.split(fname)[1].split(\"_\")[1] for fname in flist]\n",
    "\n",
    "#     fill_fold = (\n",
    "#         f\"/home/jovyan/shared/01_datasets/spatial/dtm_merged_utm33/dtm_{res}m\"\n",
    "#         f\"/by_vassom/dtm_fill_burn\"\n",
    "#     )\n",
    "#     fill_paths = [\n",
    "#         os.path.join(fill_fold, f\"vassom_{vassom}_{res}m_burn_fill.tif\")\n",
    "#         for vassom in vassom_list\n",
    "#     ]\n",
    "\n",
    "#     fdir_fold = (\n",
    "#         f\"/home/jovyan/shared/01_datasets/spatial/dtm_merged_utm33/dtm_{res}m\"\n",
    "#         f\"/by_vassom/flow_direction\"\n",
    "#     )\n",
    "#     fdir_paths = [\n",
    "#         os.path.join(fdir_fold, f\"vassom_{vassom}_{res}m_fdir.tif\")\n",
    "#         for vassom in vassom_list\n",
    "#     ]\n",
    "\n",
    "#     facc_fold = (\n",
    "#         f\"/home/jovyan/shared/01_datasets/spatial/dtm_merged_utm33/dtm_{res}m\"\n",
    "#         f\"/by_vassom/flow_accumulation\"\n",
    "#     )\n",
    "#     facc_paths = [\n",
    "#         os.path.join(facc_fold, f\"vassom_{vassom}_{res}m_facc.tif\")\n",
    "#         for vassom in vassom_list\n",
    "#     ]\n",
    "\n",
    "#     Parallel(n_jobs=n_jobs)(\n",
    "#         delayed(cd.condition_dem)(\n",
    "#             src_path,\n",
    "#             fill_paths[idx],\n",
    "#             fdir_paths[idx],\n",
    "#             facc_paths[idx],\n",
    "#             dem_dtype=dem_dtype,\n",
    "#             dem_ndv=no_data_val,\n",
    "#             burn_streams=True,\n",
    "#             shapes=shapes,\n",
    "#             sigma=sigma,\n",
    "#             dz=dz,\n",
    "#             max_iter=max_iter,\n",
    "#             eps=eps,\n",
    "#         )\n",
    "#         for idx, src_path in enumerate(flist)\n",
    "#     )"
   ]
  }
 ],
 "metadata": {
  "kernelspec": {
   "display_name": "Python 3 (ipykernel)",
   "language": "python",
   "name": "python3"
  },
  "language_info": {
   "codemirror_mode": {
    "name": "ipython",
    "version": 3
   },
   "file_extension": ".py",
   "mimetype": "text/x-python",
   "name": "python",
   "nbconvert_exporter": "python",
   "pygments_lexer": "ipython3",
   "version": "3.9.10"
  }
 },
 "nbformat": 4,
 "nbformat_minor": 5
}
