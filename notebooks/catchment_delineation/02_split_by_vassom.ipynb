{
 "cells": [
  {
   "cell_type": "code",
   "execution_count": 1,
   "id": "a6c05b12-73f6-4257-bb6e-d710225ded1d",
   "metadata": {},
   "outputs": [],
   "source": [
    "import gc\n",
    "import logging\n",
    "\n",
    "import nivapy3 as nivapy\n",
    "import rioxarray as rio"
   ]
  },
  {
   "cell_type": "markdown",
   "id": "56013158-6740-4bd3-869b-05bbf073764b",
   "metadata": {},
   "source": [
    "# Split DTM by vassdragsområde\n",
    "\n",
    "***Note:** With 16-bit integer input grids, this notebook will run on a machine with 240 GB of RAM. For 32-bit grids, use something larger.*\n",
    "\n",
    "The merged national DTM is very large: at 10 m resolution it's ~136 GB using float64 data type (which is the default for many hydrological processing tools). To avoid having to run the final tool on a huge machine, this notebook splits each dataset (10 m, 20 m and 40 m) into 262 chunks based on vassdragsområder.\n",
    "\n",
    "Each vassdragsområde is first \"buffered\" by 5 km to ensure the resulting clipped DTM contains the \"true\" watershed."
   ]
  },
  {
   "cell_type": "markdown",
   "id": "cb91190d-6ba7-44b7-94cd-0ae8739e32b7",
   "metadata": {},
   "source": [
    "## 1. User options\n",
    "\n",
    "**Note:** If running this on the machine with 1 TB of RAM, a good tip is to make 3 copies of this notebook and then run them simultaneously (one for each DEM resolution). Processing the 40 m dataset takes a few hours, the 20 m dataset takes about 8 hours and the 10 m dataset about 32 hours."
   ]
  },
  {
   "cell_type": "code",
   "execution_count": 2,
   "id": "ed082efe-ec6c-4507-9ea4-db5d77b18a69",
   "metadata": {},
   "outputs": [],
   "source": [
    "res_list = [10, 20, 40]\n",
    "crs = \"epsg:25833\"\n",
    "buff_dist_m = 5000\n",
    "log_file = \"split_by_vassom.log\""
   ]
  },
  {
   "cell_type": "code",
   "execution_count": 3,
   "id": "38cf3cbf-ec78-40cd-beec-7c4860974363",
   "metadata": {},
   "outputs": [
    {
     "name": "stdout",
     "output_type": "stream",
     "text": [
      "Logging progress to 'split_by_vassom.log'.\n"
     ]
    }
   ],
   "source": [
    "# Setup logging\n",
    "logging.basicConfig(\n",
    "    filename=log_file,\n",
    "    format=\"%(asctime)s %(message)s\",\n",
    "    datefmt=\"%Y-%m-%d %H:%M\",\n",
    "    encoding=\"utf-8\",\n",
    "    filemode='w',\n",
    "    level=logging.INFO,\n",
    ")\n",
    "print(f\"Logging progress to '{log_file}'.\")\n",
    "logging.info(\"Started\")"
   ]
  },
  {
   "cell_type": "markdown",
   "id": "ff09cb32-ef71-4ded-96db-360a35ca1638",
   "metadata": {},
   "source": [
    "## 2. Get vassdragsområder\n",
    "\n",
    "And apply the user-specified buffer."
   ]
  },
  {
   "cell_type": "code",
   "execution_count": 4,
   "id": "a64c0acc-1455-4f4f-84fb-e2f08be52111",
   "metadata": {},
   "outputs": [
    {
     "name": "stdout",
     "output_type": "stream",
     "text": [
      "Connection successful.\n",
      "CPU times: user 30.4 s, sys: 183 ms, total: 30.6 s\n",
      "Wall time: 31.2 s\n"
     ]
    },
    {
     "data": {
      "text/html": [
       "<div>\n",
       "<style scoped>\n",
       "    .dataframe tbody tr th:only-of-type {\n",
       "        vertical-align: middle;\n",
       "    }\n",
       "\n",
       "    .dataframe tbody tr th {\n",
       "        vertical-align: top;\n",
       "    }\n",
       "\n",
       "    .dataframe thead th {\n",
       "        text-align: right;\n",
       "    }\n",
       "</style>\n",
       "<table border=\"1\" class=\"dataframe\">\n",
       "  <thead>\n",
       "    <tr style=\"text-align: right;\">\n",
       "      <th></th>\n",
       "      <th>objekttype</th>\n",
       "      <th>vassdragsomradenr</th>\n",
       "      <th>vassdragsomrade</th>\n",
       "      <th>arealland_km2</th>\n",
       "      <th>areal_km2</th>\n",
       "      <th>geom</th>\n",
       "      <th>id</th>\n",
       "    </tr>\n",
       "  </thead>\n",
       "  <tbody>\n",
       "    <tr>\n",
       "      <th>0</th>\n",
       "      <td>Vassdragsområde</td>\n",
       "      <td>001</td>\n",
       "      <td>Haldenvassdraget/Iddefjorden</td>\n",
       "      <td>2495</td>\n",
       "      <td>2507</td>\n",
       "      <td>POLYGON ((278923.044 6559174.063, 279135.208 6...</td>\n",
       "      <td>1</td>\n",
       "    </tr>\n",
       "    <tr>\n",
       "      <th>1</th>\n",
       "      <td>Vassdragsområde</td>\n",
       "      <td>003</td>\n",
       "      <td>Mossevassdraget/kyst Onsøy-Son</td>\n",
       "      <td>854</td>\n",
       "      <td>1052</td>\n",
       "      <td>POLYGON ((244754.301 6589646.324, 244757.918 6...</td>\n",
       "      <td>3</td>\n",
       "    </tr>\n",
       "    <tr>\n",
       "      <th>2</th>\n",
       "      <td>Vassdragsområde</td>\n",
       "      <td>004</td>\n",
       "      <td>Hølenelva/Drøbaksundet øst</td>\n",
       "      <td>204</td>\n",
       "      <td>227</td>\n",
       "      <td>POLYGON ((249865.366 6603296.526, 249430.213 6...</td>\n",
       "      <td>4</td>\n",
       "    </tr>\n",
       "    <tr>\n",
       "      <th>3</th>\n",
       "      <td>Vassdragsområde</td>\n",
       "      <td>005</td>\n",
       "      <td>Nesodden og Bunnefjorden</td>\n",
       "      <td>279</td>\n",
       "      <td>368</td>\n",
       "      <td>POLYGON ((244637.127 6630728.383, 244467.295 6...</td>\n",
       "      <td>5</td>\n",
       "    </tr>\n",
       "    <tr>\n",
       "      <th>4</th>\n",
       "      <td>Vassdragsområde</td>\n",
       "      <td>006</td>\n",
       "      <td>Nordmarkvassdraget/kyst Gjersjøelva-Bygdøy</td>\n",
       "      <td>391</td>\n",
       "      <td>414</td>\n",
       "      <td>POLYGON ((243493.448 6682579.933, 243499.854 6...</td>\n",
       "      <td>6</td>\n",
       "    </tr>\n",
       "  </tbody>\n",
       "</table>\n",
       "</div>"
      ],
      "text/plain": [
       "        objekttype vassdragsomradenr  \\\n",
       "0  Vassdragsområde               001   \n",
       "1  Vassdragsområde               003   \n",
       "2  Vassdragsområde               004   \n",
       "3  Vassdragsområde               005   \n",
       "4  Vassdragsområde               006   \n",
       "\n",
       "                              vassdragsomrade  arealland_km2  areal_km2  \\\n",
       "0                Haldenvassdraget/Iddefjorden           2495       2507   \n",
       "1              Mossevassdraget/kyst Onsøy-Son            854       1052   \n",
       "2                  Hølenelva/Drøbaksundet øst            204        227   \n",
       "3                    Nesodden og Bunnefjorden            279        368   \n",
       "4  Nordmarkvassdraget/kyst Gjersjøelva-Bygdøy            391        414   \n",
       "\n",
       "                                                geom  id  \n",
       "0  POLYGON ((278923.044 6559174.063, 279135.208 6...   1  \n",
       "1  POLYGON ((244754.301 6589646.324, 244757.918 6...   3  \n",
       "2  POLYGON ((249865.366 6603296.526, 249430.213 6...   4  \n",
       "3  POLYGON ((244637.127 6630728.383, 244467.295 6...   5  \n",
       "4  POLYGON ((243493.448 6682579.933, 243499.854 6...   6  "
      ]
     },
     "execution_count": 4,
     "metadata": {},
     "output_type": "execute_result"
    }
   ],
   "source": [
    "%%time\n",
    "\n",
    "logging.info(\"Getting vassdragsområder\")\n",
    "eng = nivapy.da.connect_postgis()\n",
    "vass_gdf = nivapy.da.read_postgis(\"physical\", \"norway_nve_vassdragomrade_poly\", eng)\n",
    "vass_gdf = vass_gdf.to_crs(crs)\n",
    "vass_gdf.geometry = vass_gdf.geometry.buffer(buff_dist_m)\n",
    "vass_gdf.head()"
   ]
  },
  {
   "cell_type": "markdown",
   "id": "34ff6678-8af4-446a-92df-ea73c0b36597",
   "metadata": {},
   "source": [
    "## 3. Clip DTM data"
   ]
  },
  {
   "cell_type": "code",
   "execution_count": null,
   "id": "63698439-6088-47ec-a057-5e76673ca509",
   "metadata": {},
   "outputs": [],
   "source": [
    "%%time\n",
    "\n",
    "for res in res_list:\n",
    "    logging.info(f\"Processing {res} m DTM\")\n",
    "    dtm_path = f\"/home/jovyan/shared/01_datasets/spatial/dtm_merged_utm33/dtm_{res}m/norway_kartverket_{res}m_dtm_utm_z33.tif\"\n",
    "    rds = rio.open_rasterio(dtm_path, mask_and_scale=True)\n",
    "\n",
    "    for vassom in sorted(vass_gdf[\"vassdragsomradenr\"].unique()):\n",
    "        logging.info(f\"    Vassdragsområder {vassom}\")\n",
    "        gdf = vass_gdf.query(\"vassdragsomradenr == @vassom\").copy()\n",
    "        out_path = f\"/home/jovyan/shared/01_datasets/spatial/dtm_merged_utm33/dtm_{res}m/by_vassom/dtm/vassom_{vassom}_{res}m_dtm.tif\"\n",
    "        rds_clip = rds.rio.clip(gdf.geometry, drop=True, invert=False)\n",
    "        rds_clip.rio.to_raster(out_path, compress=\"lzw\", BIGTIFF=\"IF_SAFER\", tiled=True)\n",
    "        rds_clip.close()\n",
    "        del rds_clip\n",
    "        gc.collect()\n",
    "logging.info(\"Done\")"
   ]
  }
 ],
 "metadata": {
  "kernelspec": {
   "display_name": "Python 3 (ipykernel)",
   "language": "python",
   "name": "python3"
  },
  "language_info": {
   "codemirror_mode": {
    "name": "ipython",
    "version": 3
   },
   "file_extension": ".py",
   "mimetype": "text/x-python",
   "name": "python",
   "nbconvert_exporter": "python",
   "pygments_lexer": "ipython3",
   "version": "3.9.7"
  }
 },
 "nbformat": 4,
 "nbformat_minor": 5
}
